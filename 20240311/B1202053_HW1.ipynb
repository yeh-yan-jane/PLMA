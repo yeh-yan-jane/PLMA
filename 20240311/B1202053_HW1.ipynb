{
  "nbformat": 4,
  "nbformat_minor": 0,
  "metadata": {
    "colab": {
      "provenance": []
    },
    "kernelspec": {
      "name": "python3",
      "display_name": "Python 3"
    },
    "language_info": {
      "name": "python"
    }
  },
  "cells": [
    {
      "cell_type": "code",
      "execution_count": null,
      "metadata": {
        "colab": {
          "base_uri": "https://localhost:8080/"
        },
        "id": "xm8Rq3zDml48",
        "outputId": "212c7efa-4912-4a21-9b31-099415c73a59"
      },
      "outputs": [
        {
          "output_type": "stream",
          "name": "stdout",
          "text": [
            "I'm a student\n"
          ]
        }
      ],
      "source": [
        "a=\"I'm a student\"\n",
        "print(a)"
      ]
    },
    {
      "cell_type": "code",
      "source": [
        "a=int(input(\"輸入x1:\"))\n",
        "b=int(input(\"輸入x2:\"))\n",
        "c=int(input(\"輸入y1:\"))\n",
        "d=int(input(\"輸入y2:\"))\n",
        "\n",
        "b=b-a\n",
        "b=b*b\n",
        "d=d-c\n",
        "d=d*d\n",
        "print((b+d)**0.5)"
      ],
      "metadata": {
        "id": "knddTgeDnDGw",
        "colab": {
          "base_uri": "https://localhost:8080/"
        },
        "outputId": "8c6f6125-f0a9-4873-a644-bd81ab71d854"
      },
      "execution_count": 1,
      "outputs": [
        {
          "output_type": "stream",
          "name": "stdout",
          "text": [
            "輸入x1:2\n",
            "輸入x2:3\n",
            "輸入y1:4\n",
            "輸入y2:5\n",
            "1.4142135623730951\n"
          ]
        }
      ]
    },
    {
      "cell_type": "code",
      "source": [
        "a=int(input(\"輸入身高(單位:公分):\"))\n",
        "b=int(input(\"輸入體重(單位:公斤):\"))\n",
        "\n",
        "a/=100\n",
        "BMI=b/(a*a)\n",
        "print(BMI)"
      ],
      "metadata": {
        "colab": {
          "base_uri": "https://localhost:8080/"
        },
        "id": "wu4FhJgXB0wt",
        "outputId": "32507252-f8c2-4ec3-9b7f-86bb4151e330"
      },
      "execution_count": 2,
      "outputs": [
        {
          "output_type": "stream",
          "name": "stdout",
          "text": [
            "輸入身高(單位:公分):161\n",
            "輸入體重(單位:公斤):56\n",
            "21.60410477990818\n"
          ]
        }
      ]
    }
  ]
}