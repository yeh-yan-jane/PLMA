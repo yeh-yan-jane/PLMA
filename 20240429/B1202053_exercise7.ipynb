{
  "nbformat": 4,
  "nbformat_minor": 0,
  "metadata": {
    "colab": {
      "provenance": []
    },
    "kernelspec": {
      "name": "python3",
      "display_name": "Python 3"
    },
    "language_info": {
      "name": "python"
    }
  },
  "cells": [
    {
      "cell_type": "code",
      "execution_count": 18,
      "metadata": {
        "colab": {
          "base_uri": "https://localhost:8080/"
        },
        "id": "tcvpSJPV1DQL",
        "outputId": "a7006a24-55ab-4a63-f88f-8ca0eaa66576"
      },
      "outputs": [
        {
          "output_type": "stream",
          "name": "stdout",
          "text": [
            "        *\n",
            "       ***\n",
            "      *****\n",
            "     *******\n",
            "    *********\n",
            "   ***********\n",
            "  *************\n",
            " ***************\n",
            "*****************\n",
            "       ***\n",
            "       ***\n",
            "       ***\n",
            "       ***\n",
            "       ***\n"
          ]
        }
      ],
      "source": [
        "def draw_christmas_tree(height):\n",
        "  for i in range(height):\n",
        "    num_stars=1+2*i\n",
        "    num_spaces=height-i-1\n",
        "\n",
        "    print(' '*num_spaces+'*'* num_stars)\n",
        "\n",
        "  trunk_height=5\n",
        "  trunk_width=3\n",
        "  trunk_spaces=height-2\n",
        "  for j in range(trunk_height):\n",
        "    print(' '*trunk_spaces+'*'*trunk_width)\n",
        "draw_christmas_tree(9)"
      ]
    },
    {
      "cell_type": "code",
      "source": [
        "def calculate_bmi(height,weight):\n",
        "  try:\n",
        "    height=float(height)/100\n",
        "    weight=float(weight)\n",
        "    bmi=weight/(height**2)\n",
        "    return bmi\n",
        "  except ValueError:\n",
        "    print(\"輸入內容錯誤!\")\n",
        "    exit()\n",
        "def evaluate_bmi(bmi):\n",
        "  if bmi<18.5:\n",
        "    return\"體位:過輕\"\n",
        "  elif 18.5<=bmi<24:\n",
        "    return\"體位:適中\"\n",
        "  elif 24<=bmi<27:\n",
        "    return\"體位:過重\"\n",
        "  else:\n",
        "    return\"體位:肥胖\"\n",
        "height_input=input(\"輸入身高(公分)\")\n",
        "weight_input=input(\"輸入體重(公斤)\")\n",
        "\n",
        "try:\n",
        "  bmi_result=calculate_bmi(height_input,weight_input)\n",
        "  bmi_evaluation=evaluate_bmi(bmi_result)\n",
        "  print(\"BMI:\",bmi_result)\n",
        "  print(bmi_evaluation)\n",
        "except ValueError:\n",
        "  print(\"輸入內容有誤,請輸入數字\")"
      ],
      "metadata": {
        "colab": {
          "base_uri": "https://localhost:8080/"
        },
        "id": "oEurkTNZ1ben",
        "outputId": "6895309c-685e-4e1b-a0ff-af610f906173"
      },
      "execution_count": 3,
      "outputs": [
        {
          "output_type": "stream",
          "name": "stdout",
          "text": [
            "輸入身高(公分)161\n",
            "輸入體重(公斤)55\n",
            "BMI: 21.218317194552675\n",
            "體位:適中\n"
          ]
        }
      ]
    }
  ]
}