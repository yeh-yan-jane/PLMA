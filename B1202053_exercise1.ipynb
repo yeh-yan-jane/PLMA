{
  "nbformat": 4,
  "nbformat_minor": 0,
  "metadata": {
    "colab": {
      "provenance": []
    },
    "kernelspec": {
      "name": "python3",
      "display_name": "Python 3"
    },
    "language_info": {
      "name": "python"
    }
  },
  "cells": [
    {
      "cell_type": "code",
      "execution_count": 9,
      "metadata": {
        "colab": {
          "base_uri": "https://localhost:8080/"
        },
        "id": "AAwsm5RGfxTK",
        "outputId": "c4e0f213-2fe0-4d0b-ed9f-6faaa1f4a5fd"
      },
      "outputs": [
        {
          "output_type": "stream",
          "name": "stdout",
          "text": [
            "長庚大學\n",
            "醫學系\n",
            "葉諺蓁\n"
          ]
        }
      ],
      "source": [
        "a='''長庚大學\n",
        "醫學系\n",
        "葉諺蓁'''\n",
        "print(a)"
      ]
    },
    {
      "cell_type": "code",
      "source": [
        "a=3\n",
        "b=5\n",
        "print(a**b)"
      ],
      "metadata": {
        "colab": {
          "base_uri": "https://localhost:8080/"
        },
        "id": "sdE88Q_IkWT4",
        "outputId": "f645dbf5-4c4d-46e7-ea09-b514fb3c8018"
      },
      "execution_count": 10,
      "outputs": [
        {
          "output_type": "stream",
          "name": "stdout",
          "text": [
            "243\n"
          ]
        }
      ]
    },
    {
      "cell_type": "code",
      "source": [
        "a=3\n",
        "b=5\n",
        "a/=b\n",
        "print(a)"
      ],
      "metadata": {
        "colab": {
          "base_uri": "https://localhost:8080/"
        },
        "id": "j7bJHocjkgE_",
        "outputId": "3a6ca9a9-cde9-48f1-f354-74c515d7ff8a"
      },
      "execution_count": 11,
      "outputs": [
        {
          "output_type": "stream",
          "name": "stdout",
          "text": [
            "0.6\n"
          ]
        }
      ]
    }
  ]
}