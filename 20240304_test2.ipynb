{
  "nbformat": 4,
  "nbformat_minor": 0,
  "metadata": {
    "colab": {
      "provenance": []
    },
    "kernelspec": {
      "name": "python3",
      "display_name": "Python 3"
    },
    "language_info": {
      "name": "python"
    }
  },
  "cells": [
    {
      "cell_type": "code",
      "execution_count": null,
      "metadata": {
        "id": "upFUFsK0d-AW"
      },
      "outputs": [],
      "source": [
        "x=2\n",
        "y=1"
      ]
    },
    {
      "cell_type": "code",
      "source": [
        "a=2*x+y\n",
        "b=100-y\n",
        "\n",
        "z=a*b\n",
        "\n",
        "print(\"Ans.is = \", z)"
      ],
      "metadata": {
        "colab": {
          "base_uri": "https://localhost:8080/"
        },
        "id": "eApPu1Vdefe_",
        "outputId": "ac3d03f6-2d7a-46f1-bf96-1a74c8806a8a"
      },
      "execution_count": null,
      "outputs": [
        {
          "output_type": "stream",
          "name": "stdout",
          "text": [
            "Ans.is =  495\n"
          ]
        }
      ]
    },
    {
      "cell_type": "code",
      "source": [
        "y=4"
      ],
      "metadata": {
        "id": "-IzMwR0tfgte"
      },
      "execution_count": null,
      "outputs": []
    },
    {
      "cell_type": "code",
      "source": [
        "a=100\n",
        "b=2*y+1\n",
        "\n",
        "z=a/b\n",
        "\n",
        "print(\"Ans.is=\", z)"
      ],
      "metadata": {
        "colab": {
          "base_uri": "https://localhost:8080/"
        },
        "id": "p3BcRzYmfmKt",
        "outputId": "3fded0cd-41dc-4cf4-8417-14ab9b38a845"
      },
      "execution_count": null,
      "outputs": [
        {
          "output_type": "stream",
          "name": "stdout",
          "text": [
            "Ans.is= 11.11111111111111\n"
          ]
        }
      ]
    }
  ]
}