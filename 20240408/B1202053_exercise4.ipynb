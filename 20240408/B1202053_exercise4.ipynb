{
  "nbformat": 4,
  "nbformat_minor": 0,
  "metadata": {
    "colab": {
      "provenance": []
    },
    "kernelspec": {
      "name": "python3",
      "display_name": "Python 3"
    },
    "language_info": {
      "name": "python"
    }
  },
  "cells": [
    {
      "cell_type": "code",
      "execution_count": 10,
      "metadata": {
        "colab": {
          "base_uri": "https://localhost:8080/"
        },
        "id": "8RCr3e0Gj_H2",
        "outputId": "780af4eb-2e7d-48f3-cf62-0724ca5936c6"
      },
      "outputs": [
        {
          "output_type": "stream",
          "name": "stdout",
          "text": [
            "身高(公尺)1.61\n",
            "體重(公斤)55\n",
            "21.218317194552675\n",
            "適中\n"
          ]
        }
      ],
      "source": [
        "a=float(input('身高(公尺)'))\n",
        "b=float(input('體重(公斤)'))\n",
        "BMI=b/a**2\n",
        "print(BMI)\n",
        "if BMI<18.5:\n",
        "  print('過輕')\n",
        "elif 18.5<=BMI<24:\n",
        "  print('適中')\n",
        "elif 24<=BMI<27:\n",
        "  print('過重')\n",
        "else:\n",
        "  print('肥胖')"
      ]
    },
    {
      "cell_type": "code",
      "source": [
        "a=float(input('輸入一個數字'))\n",
        "b=float(input('輸入第二個數字'))\n",
        "c=str(input('輸入一個運算符號'))\n",
        "if c=='+':\n",
        "  print(a+b)\n",
        "elif c=='-':\n",
        "  print(a-b)\n",
        "elif c=='*':\n",
        "  print(a*b)\n",
        "elif c=='/':\n",
        "  print(a/b)"
      ],
      "metadata": {
        "colab": {
          "base_uri": "https://localhost:8080/"
        },
        "id": "37pCCfKRndmg",
        "outputId": "7a66957d-cb44-4672-db14-a0c7f9d89503"
      },
      "execution_count": 12,
      "outputs": [
        {
          "output_type": "stream",
          "name": "stdout",
          "text": [
            "輸入一個數字2\n",
            "輸入第二個數字3\n",
            "輸入一個運算符號+\n",
            "5.0\n"
          ]
        }
      ]
    }
  ]
}