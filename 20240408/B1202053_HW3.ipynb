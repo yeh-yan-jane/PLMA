{
  "nbformat": 4,
  "nbformat_minor": 0,
  "metadata": {
    "colab": {
      "provenance": []
    },
    "kernelspec": {
      "name": "python3",
      "display_name": "Python 3"
    },
    "language_info": {
      "name": "python"
    }
  },
  "cells": [
    {
      "cell_type": "code",
      "execution_count": 3,
      "metadata": {
        "colab": {
          "base_uri": "https://localhost:8080/"
        },
        "id": "zFv6dCL2n447",
        "outputId": "b8a38e8d-3c8e-49dd-aec4-92ee39052df4"
      },
      "outputs": [
        {
          "output_type": "stream",
          "name": "stdout",
          "text": [
            "請輸入年分1582\n",
            "是平年\n"
          ]
        }
      ],
      "source": [
        "y=int(input(\"請輸入年分\"))\n",
        "if y > 1582:\n",
        "  if y%400==0:\n",
        "    print(\"是閏年\")\n",
        "  elif y%4==0 and y%100!=0:\n",
        "    print(\"是閏年\")\n",
        "  else:\n",
        "    print(\"是平年\")\n",
        "elif y%4==0:\n",
        "  print(\"是閏年\")\n",
        "else:\n",
        "  print(\"是平年\")"
      ]
    }
  ]
}