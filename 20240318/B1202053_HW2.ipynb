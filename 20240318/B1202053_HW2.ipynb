{
  "nbformat": 4,
  "nbformat_minor": 0,
  "metadata": {
    "colab": {
      "provenance": []
    },
    "kernelspec": {
      "name": "python3",
      "display_name": "Python 3"
    },
    "language_info": {
      "name": "python"
    }
  },
  "cells": [
    {
      "cell_type": "code",
      "execution_count": 1,
      "metadata": {
        "colab": {
          "base_uri": "https://localhost:8080/"
        },
        "id": "wy1XmmPXd7j5",
        "outputId": "299679aa-ea6d-49b9-ee50-dec4c39d30be"
      },
      "outputs": [
        {
          "output_type": "stream",
          "name": "stdout",
          "text": [
            "A\n",
            "['K', 'H', 'U']\n"
          ]
        }
      ],
      "source": [
        "a='C,B,A'\n",
        "b=['F','G','H']\n",
        "str1=a.split(',')\n",
        "str2=str1+b\n",
        "str2[0]='K'\n",
        "print(str2.pop(2))\n",
        "del str2[1:4]\n",
        "str2.append('U')\n",
        "print(str2)"
      ]
    },
    {
      "cell_type": "code",
      "source": [
        "a=input(\"請輸入一個八位數字\")\n",
        "print(a[-4])"
      ],
      "metadata": {
        "colab": {
          "base_uri": "https://localhost:8080/"
        },
        "id": "mnVd9RXrgKVd",
        "outputId": "9dcf2636-8583-46bc-fb95-ccbd9f066ee5"
      },
      "execution_count": 3,
      "outputs": [
        {
          "output_type": "stream",
          "name": "stdout",
          "text": [
            "請輸入一個八位數字89562314\n",
            "2\n"
          ]
        }
      ]
    },
    {
      "cell_type": "code",
      "source": [
        "a=\"My ID is B1202053\"\n",
        "b=a.split(' ')\n",
        "print(len(b))\n",
        "c=b.pop(-1)\n",
        "print(len(c))"
      ],
      "metadata": {
        "colab": {
          "base_uri": "https://localhost:8080/"
        },
        "id": "JFczEP9chl_f",
        "outputId": "bdd9d0e4-9c87-40e0-fbd5-e67e5e67557b"
      },
      "execution_count": 9,
      "outputs": [
        {
          "output_type": "stream",
          "name": "stdout",
          "text": [
            "4\n",
            "8\n"
          ]
        }
      ]
    },
    {
      "cell_type": "code",
      "source": [],
      "metadata": {
        "id": "D45_sWjXoQ85"
      },
      "execution_count": null,
      "outputs": []
    },
    {
      "cell_type": "code",
      "source": [
        "a=\"I'm a student\"\n",
        "b=a.split()\n",
        "print(b[0][2])\n"
      ],
      "metadata": {
        "colab": {
          "base_uri": "https://localhost:8080/"
        },
        "id": "3vgZkjjAjEH_",
        "outputId": "23100d75-7d12-4965-86d3-d21be84ab506"
      },
      "execution_count": 13,
      "outputs": [
        {
          "output_type": "stream",
          "name": "stdout",
          "text": [
            "m\n"
          ]
        }
      ]
    }
  ]
}